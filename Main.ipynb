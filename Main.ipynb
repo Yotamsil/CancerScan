{
  "nbformat": 4,
  "nbformat_minor": 0,
  "metadata": {
    "colab": {
      "name": "Main.ipynb",
      "provenance": [],
      "collapsed_sections": []
    },
    "kernelspec": {
      "name": "python3",
      "display_name": "Python 3"
    }
  },
  "cells": [
    {
      "cell_type": "code",
      "metadata": {
        "id": "1aFWpuNSzGq9",
        "colab": {
          "base_uri": "https://localhost:8080/"
        },
        "outputId": "9cb872ac-5224-41b4-ea24-7b75877c1664"
      },
      "source": [
        "import pandas\n",
        "import numpy as np\n",
        "import matplotlib.pyplot as plt\n",
        "from google.colab import drive\n",
        "!pip install patool\n",
        "import patoolib\n",
        "import scipy.io\n",
        "import glob\n",
        "drive.mount('/content/gdrive')"
      ],
      "execution_count": 25,
      "outputs": [
        {
          "output_type": "stream",
          "name": "stdout",
          "text": [
            "Requirement already satisfied: patool in /usr/local/lib/python3.7/dist-packages (1.12)\n",
            "Drive already mounted at /content/gdrive; to attempt to forcibly remount, call drive.mount(\"/content/gdrive\", force_remount=True).\n"
          ]
        }
      ]
    },
    {
      "cell_type": "code",
      "metadata": {
        "id": "EY6PrfV4zGq_",
        "colab": {
          "base_uri": "https://localhost:8080/"
        },
        "outputId": "e78e270e-0e83-4b00-e051-01ddf5e9a750"
      },
      "source": [
        "sim_dir =  '/content/gdrive/My Drive/פרויקט מסכם/simulations/'\n",
        "\n",
        "# for rar in glob.glob(sim_dir + '*.rar'):\n",
        "#   patoolib.extract_archive(rar, outdir=sim_dir)"
      ],
      "execution_count": 60,
      "outputs": [
        {
          "output_type": "stream",
          "name": "stdout",
          "text": [
            "/content/gdrive/My Drive/פרויקט מסכם/simulations/two_ellipses.rar\n",
            "patool: Extracting /content/gdrive/My Drive/פרויקט מסכם/simulations/two_ellipses.rar ...\n",
            "patool: running /usr/bin/unrar x -- \"/content/gdrive/My Drive/פרויקט מסכם/simulations/two_ellipses.rar\"\n",
            "patool:     with cwd='/content/gdrive/My Drive/פרויקט מסכם/simulations/'\n",
            "patool: ... /content/gdrive/My Drive/פרויקט מסכם/simulations/two_ellipses.rar extracted to `/content/gdrive/My Drive/פרויקט מסכם/simulations/'.\n",
            "/content/gdrive/My Drive/פרויקט מסכם/simulations/two_spheres.rar\n",
            "patool: Extracting /content/gdrive/My Drive/פרויקט מסכם/simulations/two_spheres.rar ...\n",
            "patool: running /usr/bin/unrar x -- \"/content/gdrive/My Drive/פרויקט מסכם/simulations/two_spheres.rar\"\n",
            "patool:     with cwd='/content/gdrive/My Drive/פרויקט מסכם/simulations/'\n",
            "patool: ... /content/gdrive/My Drive/פרויקט מסכם/simulations/two_spheres.rar extracted to `/content/gdrive/My Drive/פרויקט מסכם/simulations/'.\n",
            "/content/gdrive/My Drive/פרויקט מסכם/simulations/three_ellipses.rar\n",
            "patool: Extracting /content/gdrive/My Drive/פרויקט מסכם/simulations/three_ellipses.rar ...\n",
            "patool: running /usr/bin/unrar x -- \"/content/gdrive/My Drive/פרויקט מסכם/simulations/three_ellipses.rar\"\n",
            "patool:     with cwd='/content/gdrive/My Drive/פרויקט מסכם/simulations/'\n",
            "patool: ... /content/gdrive/My Drive/פרויקט מסכם/simulations/three_ellipses.rar extracted to `/content/gdrive/My Drive/פרויקט מסכם/simulations/'.\n",
            "/content/gdrive/My Drive/פרויקט מסכם/simulations/four_ellipses.rar\n",
            "patool: Extracting /content/gdrive/My Drive/פרויקט מסכם/simulations/four_ellipses.rar ...\n",
            "patool: running /usr/bin/unrar x -- \"/content/gdrive/My Drive/פרויקט מסכם/simulations/four_ellipses.rar\"\n",
            "patool:     with cwd='/content/gdrive/My Drive/פרויקט מסכם/simulations/'\n",
            "patool: ... /content/gdrive/My Drive/פרויקט מסכם/simulations/four_ellipses.rar extracted to `/content/gdrive/My Drive/פרויקט מסכם/simulations/'.\n",
            "/content/gdrive/My Drive/פרויקט מסכם/simulations/one_ellipse.rar\n",
            "patool: Extracting /content/gdrive/My Drive/פרויקט מסכם/simulations/one_ellipse.rar ...\n",
            "patool: running /usr/bin/unrar x -- \"/content/gdrive/My Drive/פרויקט מסכם/simulations/one_ellipse.rar\"\n",
            "patool:     with cwd='/content/gdrive/My Drive/פרויקט מסכם/simulations/'\n",
            "patool: ... /content/gdrive/My Drive/פרויקט מסכם/simulations/one_ellipse.rar extracted to `/content/gdrive/My Drive/פרויקט מסכם/simulations/'.\n",
            "/content/gdrive/My Drive/פרויקט מסכם/simulations/three_spheres.rar\n",
            "patool: Extracting /content/gdrive/My Drive/פרויקט מסכם/simulations/three_spheres.rar ...\n",
            "patool: running /usr/bin/unrar x -- \"/content/gdrive/My Drive/פרויקט מסכם/simulations/three_spheres.rar\"\n",
            "patool:     with cwd='/content/gdrive/My Drive/פרויקט מסכם/simulations/'\n",
            "patool: ... /content/gdrive/My Drive/פרויקט מסכם/simulations/three_spheres.rar extracted to `/content/gdrive/My Drive/פרויקט מסכם/simulations/'.\n",
            "/content/gdrive/My Drive/פרויקט מסכם/simulations/four_spheres.rar\n",
            "patool: Extracting /content/gdrive/My Drive/פרויקט מסכם/simulations/four_spheres.rar ...\n",
            "patool: running /usr/bin/unrar x -- \"/content/gdrive/My Drive/פרויקט מסכם/simulations/four_spheres.rar\"\n",
            "patool:     with cwd='/content/gdrive/My Drive/פרויקט מסכם/simulations/'\n",
            "patool: ... /content/gdrive/My Drive/פרויקט מסכם/simulations/four_spheres.rar extracted to `/content/gdrive/My Drive/פרויקט מסכם/simulations/'.\n",
            "/content/gdrive/My Drive/פרויקט מסכם/simulations/two_both.rar\n",
            "patool: Extracting /content/gdrive/My Drive/פרויקט מסכם/simulations/two_both.rar ...\n",
            "patool: running /usr/bin/unrar x -- \"/content/gdrive/My Drive/פרויקט מסכם/simulations/two_both.rar\"\n",
            "patool:     with cwd='/content/gdrive/My Drive/פרויקט מסכם/simulations/'\n",
            "patool: ... /content/gdrive/My Drive/פרויקט מסכם/simulations/two_both.rar extracted to `/content/gdrive/My Drive/פרויקט מסכם/simulations/'.\n",
            "/content/gdrive/My Drive/פרויקט מסכם/simulations/three_both.rar\n",
            "patool: Extracting /content/gdrive/My Drive/פרויקט מסכם/simulations/three_both.rar ...\n",
            "patool: running /usr/bin/unrar x -- \"/content/gdrive/My Drive/פרויקט מסכם/simulations/three_both.rar\"\n",
            "patool:     with cwd='/content/gdrive/My Drive/פרויקט מסכם/simulations/'\n",
            "patool: ... /content/gdrive/My Drive/פרויקט מסכם/simulations/three_both.rar extracted to `/content/gdrive/My Drive/פרויקט מסכם/simulations/'.\n",
            "/content/gdrive/My Drive/פרויקט מסכם/simulations/one_sphere.rar\n",
            "patool: Extracting /content/gdrive/My Drive/פרויקט מסכם/simulations/one_sphere.rar ...\n",
            "patool: running /usr/bin/unrar x -- \"/content/gdrive/My Drive/פרויקט מסכם/simulations/one_sphere.rar\"\n",
            "patool:     with cwd='/content/gdrive/My Drive/פרויקט מסכם/simulations/'\n",
            "patool: ... /content/gdrive/My Drive/פרויקט מסכם/simulations/one_sphere.rar extracted to `/content/gdrive/My Drive/פרויקט מסכם/simulations/'.\n",
            "/content/gdrive/My Drive/פרויקט מסכם/simulations/four_both.rar\n",
            "patool: Extracting /content/gdrive/My Drive/פרויקט מסכם/simulations/four_both.rar ...\n",
            "patool: running /usr/bin/unrar x -- \"/content/gdrive/My Drive/פרויקט מסכם/simulations/four_both.rar\"\n",
            "patool:     with cwd='/content/gdrive/My Drive/פרויקט מסכם/simulations/'\n",
            "patool: ... /content/gdrive/My Drive/פרויקט מסכם/simulations/four_both.rar extracted to `/content/gdrive/My Drive/פרויקט מסכם/simulations/'.\n",
            "/content/gdrive/My Drive/פרויקט מסכם/simulations/five_both.rar\n",
            "patool: Extracting /content/gdrive/My Drive/פרויקט מסכם/simulations/five_both.rar ...\n",
            "patool: running /usr/bin/unrar x -- \"/content/gdrive/My Drive/פרויקט מסכם/simulations/five_both.rar\"\n",
            "patool:     with cwd='/content/gdrive/My Drive/פרויקט מסכם/simulations/'\n",
            "patool: ... /content/gdrive/My Drive/פרויקט מסכם/simulations/five_both.rar extracted to `/content/gdrive/My Drive/פרויקט מסכם/simulations/'.\n",
            "/content/gdrive/My Drive/פרויקט מסכם/simulations/homogenous.rar\n",
            "patool: Extracting /content/gdrive/My Drive/פרויקט מסכם/simulations/homogenous.rar ...\n",
            "patool: running /usr/bin/unrar x -- \"/content/gdrive/My Drive/פרויקט מסכם/simulations/homogenous.rar\"\n",
            "patool:     with cwd='/content/gdrive/My Drive/פרויקט מסכם/simulations/'\n",
            "patool: ... /content/gdrive/My Drive/פרויקט מסכם/simulations/homogenous.rar extracted to `/content/gdrive/My Drive/פרויקט מסכם/simulations/'.\n"
          ]
        }
      ]
    },
    {
      "cell_type": "code",
      "source": [
        "x_train = np.empty([1,9])\n",
        "t_train = np.empty([1])\n",
        "for file in glob.glob(sim_dir + '*/*.mat'):\n",
        "  mat = scipy.io.loadmat(file)['logY'].toarray()\n",
        "  x_train = np.append(x_train, mat, axis=0)\n",
        "  if \"homogenous\" in file:\n",
        "    t_train = np.append(t_train, [0], axis=0)\n",
        "  else: \n",
        "    t_train = np.append(t_train, [1], axis=0)\n",
        "x_train = x_train[1:]\n",
        "t_train = t_train[1:]"
      ],
      "metadata": {
        "id": "2_7WPrhjs5Aw"
      },
      "execution_count": 63,
      "outputs": []
    },
    {
      "cell_type": "code",
      "source": [
        "print(x_train.shape)\n",
        "print(t_train.shape)"
      ],
      "metadata": {
        "colab": {
          "base_uri": "https://localhost:8080/"
        },
        "id": "es9dBLWaxIpp",
        "outputId": "44fa9180-f6d7-46e7-fbf1-01ff07653a1d"
      },
      "execution_count": 65,
      "outputs": [
        {
          "output_type": "stream",
          "name": "stdout",
          "text": [
            "(10000, 9)\n",
            "(10000,)\n"
          ]
        }
      ]
    }
  ]
}